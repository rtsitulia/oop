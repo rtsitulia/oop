{
 "cells": [
  {
   "cell_type": "code",
   "execution_count": null,
   "metadata": {},
   "outputs": [],
   "source": [
    "###### Перезавантаження нашого класу через імпорти\n",
    "import importlib\n",
    "import my_file\n",
    "\n",
    "importlib.reload(my_file)\n",
    "###### Кожного разу запускаємо цю комірку коли роимо зміни у класі"
   ]
  },
  {
   "cell_type": "code",
   "execution_count": null,
   "metadata": {},
   "outputs": [],
   "source": [
    "phone = [\"Iphone\", \"15\", \"12Gb\"]\n",
    "phone1 = [\"Samsung\", \"Note 7\", \"20Gb\"]\n",
    "\n",
    "# із збільшенням кількості речей про які нас потрібно зирати інформацію, буде складніше\n",
    "# з ними працювати (буде багато змінних phone)\n",
    "\n",
    "phones = {\n",
    "    \"Виробник\": [\"Iphone\", \"Samsung\", \"Meizu\", \"Huawey\"],\n",
    "    \"Модель\": [[13, 16], \"Note 7\", \"M7\", \"Band\"],\n",
    "    \"RAM\": [\"12Gb\", \"20Gb\", \"16Gb\", \"11Gb\"]\n",
    "}\n",
    "\n",
    "for i in range(len(phones[\"Виробник\"])):\n",
    "    print(f\"Доступаємось до телефона: {phones[\"Виробник\"][i]}, {phones[\"Модель\"][i]}, {phones[\"RAM\"][i]}\")"
   ]
  },
  {
   "cell_type": "code",
   "execution_count": null,
   "metadata": {},
   "outputs": [],
   "source": [
    "from my_file import Phone\n",
    "\n",
    "i = Phone()\n",
    "# Тут ми задаємо так звані динамічні атрибути\n",
    "i.vendor = \"Iphone\"\n",
    "i.model = [13, 16]\n",
    "i.ram = \"12Gb\"\n",
    "\n",
    "s = Phone()\n",
    "# Тут ми задаємо так звані динамічні атрибути\n",
    "s.vendor = \"Samsung\"\n",
    "s.model = \"Note 7\"\n",
    "s.ram = \"20Gb\"\n",
    "s.made_in = \"Китай\"\n",
    "\n",
    "print(f\"Доступаємось до телефона: {i.vendor}, {i.model}, {i.ram}\")\n",
    "print(s.__dict__)\n",
    "print(i.__dict__)"
   ]
  },
  {
   "cell_type": "code",
   "execution_count": null,
   "metadata": {},
   "outputs": [],
   "source": [
    "#print(f\"Доступаємось до телефона: {i.vendor}, {i.model}, {i.ram}, {i.made_id}\")"
   ]
  },
  {
   "cell_type": "code",
   "execution_count": null,
   "metadata": {},
   "outputs": [],
   "source": [
    "from my_file import PhoneWithAttributes\n",
    "\n",
    "ip = PhoneWithAttributes(\"Iphone\", [13, 16], 12)\n",
    "\n",
    "print(ip.__dict__) # всі атрибути є присутніми і сумісні з іншими обєктами\n",
    "\n",
    "sm = PhoneWithAttributes(\"Samsung\", \"Note 7\", 20, \"Китай\")\n",
    "\n",
    "print(sm.__dict__)\n",
    "\n",
    "for o in [ip, sm]:\n",
    "    print(f\"Доступаємось до телефона: {o.vendor}, {o.model}, {o.ram} який зроблений у {o.made_in}\")"
   ]
  },
  {
   "cell_type": "code",
   "execution_count": null,
   "metadata": {},
   "outputs": [],
   "source": [
    "print(ip._reserved_memory, sm._reserved_memory)\n",
    "\n",
    "ip._reserved_memory = 5\n",
    "\n",
    "print(ip._reserved_memory)\n",
    "\n",
    "print(ip.get_availabl_memory)\n",
    "# ip.get_availabl_memory = 6 # ми можемо тільки читати властивості але не змінювати їх\n",
    "\n",
    "ip.secret"
   ]
  },
  {
   "cell_type": "code",
   "execution_count": null,
   "metadata": {},
   "outputs": [],
   "source": [
    "from my_file import PhoneWithAttributes\n",
    "\n",
    "ip = PhoneWithAttributes(\"Iphone\", 13, 12)\n",
    "\n",
    "print(ip.__dict__)\n",
    "\n",
    "ip.call(\"097 000001\")\n",
    "ip.call(\"097 000002\")\n",
    "\n",
    "print(f\"Активних відеовикликів: {ip._video_calls}\")\n",
    "ip.stop_call()\n",
    "print(f\"Активних відеовикликів: {ip._video_calls}\")\n",
    "ip.stop_call()\n",
    "print(f\"Активних відеовикликів: {ip._video_calls}\")\n",
    "ip.stop_call()\n",
    "ip._video_calls"
   ]
  },
  {
   "cell_type": "code",
   "execution_count": null,
   "metadata": {},
   "outputs": [],
   "source": [
    "rom my_file import PhoneWithAttributes\n",
    "\n",
    "ip = PhoneWithAttributes(\"Iphone\", 13, 12)\n",
    "\n",
    "# статичні методи можуть бути викликані або з обєкта\n",
    "ip.sunny_weather(1,2)\n",
    "\n",
    "# або через клас, бо тут не потрібен обєкт (ми не передавали вказівник на обєкт) \n",
    "PhoneWithAttributes.sunny_weather(team_b=2)"
   ]
  }
 ],
 "metadata": {
  "language_info": {
   "name": "python"
  }
 },
 "nbformat": 4,
 "nbformat_minor": 2
}
