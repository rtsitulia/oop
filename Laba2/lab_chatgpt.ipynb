{
 "cells": [
  {
   "cell_type": "code",
   "execution_count": 1,
   "metadata": {},
   "outputs": [
    {
     "name": "stdout",
     "output_type": "stream",
     "text": [
      "Рядок: змінна з текстом\n",
      "Ціла змінна: 1\n",
      "Змінна з плаваючою комою: 1.1\n",
      "Список: ['a', 1, 1.25, 'Слово', 'змінна з текстом']\n",
      "Словник: {'a': 'Слово', 'b': 1, 'змінна з текстом': 1}\n",
      "Кортеж: ('a', 'змінна з текстом')\n",
      "Набір: {'ss', 'змінна з текстом1'}\n"
     ]
    }
   ],
   "source": [
    "# Рядок (str)\n",
    "a = \"змінна з текстом\"\n",
    "\n",
    "# Цілі числа (int) та числа з плаваючою комою (float)\n",
    "b = 1  # цілочисельна змінна\n",
    "b1 = 1.1  # числова змінна з плаваючою комою\n",
    "\n",
    "# Список (list)\n",
    "c = [\"a\", 1, 1.25, \"Слово\", a]\n",
    "\n",
    "# Словник (dict)\n",
    "d = {\"a\": \"Слово\", \"b\": 1, a: b}\n",
    "\n",
    "# Кортеж (tuple)\n",
    "e = (\"a\", a)\n",
    "\n",
    "# Набір (set)\n",
    "f = {\"ss\", a + str(b)}  # Конкатенація рядка з числом (перетворення b на рядок)\n",
    "\n",
    "# Виведення результатів\n",
    "print(\"Рядок:\", a)\n",
    "print(\"Ціла змінна:\", b)\n",
    "print(\"Змінна з плаваючою комою:\", b1)\n",
    "print(\"Список:\", c)\n",
    "print(\"Словник:\", d)\n",
    "print(\"Кортеж:\", e)\n",
    "print(\"Набір:\", f)\n"
   ]
  },
  {
   "cell_type": "code",
   "execution_count": 2,
   "metadata": {},
   "outputs": [
    {
     "name": "stdout",
     "output_type": "stream",
     "text": [
      "Константа True: True\n",
      "Константа False: False\n",
      "Константа None: None\n"
     ]
    }
   ],
   "source": [
    "# Вбудовані константи\n",
    "true_value = True\n",
    "false_value = False\n",
    "none_value = None\n",
    "\n",
    "# Вивід констант\n",
    "print(\"Константа True:\", true_value)\n",
    "print(\"Константа False:\", false_value)\n",
    "print(\"Константа None:\", none_value)\n"
   ]
  },
  {
   "cell_type": "code",
   "execution_count": 3,
   "metadata": {},
   "outputs": [
    {
     "name": "stdout",
     "output_type": "stream",
     "text": [
      "Довжина рядка: 13\n",
      "Сума чисел: 15\n",
      "Максимальне значення: 5\n"
     ]
    }
   ],
   "source": [
    "# Використання вбудованих функцій\n",
    "\n",
    "# Функція len() для отримання довжини рядка\n",
    "text = \"Привіт, світ!\"\n",
    "length_of_text = len(text)\n",
    "\n",
    "# Функція sum() для обчислення суми елементів списку\n",
    "numbers = [1, 2, 3, 4, 5]\n",
    "sum_of_numbers = sum(numbers)\n",
    "\n",
    "# Функція max() для знаходження максимального значення в списку\n",
    "max_value = max(numbers)\n",
    "\n",
    "# Вивід результатів\n",
    "print(\"Довжина рядка:\", length_of_text)\n",
    "print(\"Сума чисел:\", sum_of_numbers)\n",
    "print(\"Максимальне значення:\", max_value)\n"
   ]
  },
  {
   "cell_type": "code",
   "execution_count": 4,
   "metadata": {},
   "outputs": [
    {
     "name": "stdout",
     "output_type": "stream",
     "text": [
      "Цикл for:\n",
      "яблуко\n",
      "банан\n",
      "груша\n",
      "\n",
      "Цикл while:\n",
      "Лічильник: 0\n",
      "Лічильник: 1\n",
      "Лічильник: 2\n",
      "Лічильник: 3\n",
      "Лічильник: 4\n"
     ]
    }
   ],
   "source": [
    "# Цикл for\n",
    "print(\"Цикл for:\")\n",
    "fruits = [\"яблуко\", \"банан\", \"груша\"]\n",
    "for fruit in fruits:\n",
    "    print(fruit)\n",
    "\n",
    "# Цикл while\n",
    "print(\"\\nЦикл while:\")\n",
    "count = 0\n",
    "while count < 5:\n",
    "    print(\"Лічильник:\", count)\n",
    "    count += 1  # Збільшуємо лічильник на 1\n"
   ]
  },
  {
   "cell_type": "code",
   "execution_count": 5,
   "metadata": {},
   "outputs": [
    {
     "name": "stdout",
     "output_type": "stream",
     "text": [
      "Число позитивне.\n",
      "Число непарне.\n"
     ]
    }
   ],
   "source": [
    "# Приклад розгалуження\n",
    "number = int(input(\"Введіть число: \"))\n",
    "\n",
    "if number > 0:\n",
    "    print(\"Число позитивне.\")\n",
    "elif number < 0:\n",
    "    print(\"Число негативне.\")\n",
    "else:\n",
    "    print(\"Число нуль.\")\n",
    "\n",
    "# Додаткове розгалуження для перевірки парності\n",
    "if number % 2 == 0:\n",
    "    print(\"Число парне.\")\n",
    "else:\n",
    "    print(\"Число непарне.\")\n"
   ]
  },
  {
   "cell_type": "code",
   "execution_count": 6,
   "metadata": {},
   "outputs": [
    {
     "name": "stdout",
     "output_type": "stream",
     "text": [
      "Введене число: 5\n",
      "Дякуємо за використання програми!\n"
     ]
    }
   ],
   "source": [
    "try:\n",
    "    # Запит на введення числа\n",
    "    user_input = input(\"Введіть число: \")\n",
    "    number = int(user_input)  # Спроба перетворити введене значення на ціле число\n",
    "    print(\"Введене число:\", number)\n",
    "\n",
    "except ValueError:\n",
    "    # Обробка помилки, якщо введене значення не можна перетворити на число\n",
    "    print(\"Помилка: Введіть коректне ціле число!\")\n",
    "\n",
    "finally:\n",
    "    # Цей блок виконується завжди, незалежно від того, була помилка чи ні\n",
    "    print(\"Дякуємо за використання програми!\")\n"
   ]
  },
  {
   "cell_type": "code",
   "execution_count": 7,
   "metadata": {},
   "outputs": [
    {
     "name": "stdout",
     "output_type": "stream",
     "text": [
      "Зміст файлу:\n",
      "Це приклад використання контекст-менеджера.\n",
      "Файл буде автоматично закритий після виходу з блоку.\n"
     ]
    }
   ],
   "source": [
    "# Використання контекст-менеджера with для роботи з файлами\n",
    "file_name = \"example.txt\"\n",
    "\n",
    "# Запис у файл\n",
    "with open(file_name, \"w\") as file:\n",
    "    file.write(\"Це приклад використання контекст-менеджера.\\n\")\n",
    "    file.write(\"Файл буде автоматично закритий після виходу з блоку.\")\n",
    "\n",
    "# Читання з файлу\n",
    "with open(file_name, \"r\") as file:\n",
    "    content = file.read()\n",
    "    print(\"Зміст файлу:\")\n",
    "    print(content)\n"
   ]
  },
  {
   "cell_type": "code",
   "execution_count": 8,
   "metadata": {},
   "outputs": [
    {
     "name": "stdout",
     "output_type": "stream",
     "text": [
      "Результат додавання: 8\n",
      "Квадрати чисел: [1, 4, 9, 16, 25]\n",
      "Парні числа: [2, 4]\n"
     ]
    }
   ],
   "source": [
    "# Лямбда-функція для додавання двох чисел\n",
    "add = lambda x, y: x + y\n",
    "\n",
    "# Використання лямбда-функції\n",
    "result = add(5, 3)\n",
    "print(\"Результат додавання:\", result)\n",
    "\n",
    "# Лямбда-функція в методі map\n",
    "numbers = [1, 2, 3, 4, 5]\n",
    "squared_numbers = list(map(lambda x: x ** 2, numbers))\n",
    "print(\"Квадрати чисел:\", squared_numbers)\n",
    "\n",
    "# Лямбда-функція в методі filter\n",
    "even_numbers = list(filter(lambda x: x % 2 == 0, numbers))\n",
    "print(\"Парні числа:\", even_numbers)\n"
   ]
  }
 ],
 "metadata": {
  "kernelspec": {
   "display_name": "Python 3",
   "language": "python",
   "name": "python3"
  },
  "language_info": {
   "codemirror_mode": {
    "name": "ipython",
    "version": 3
   },
   "file_extension": ".py",
   "mimetype": "text/x-python",
   "name": "python",
   "nbconvert_exporter": "python",
   "pygments_lexer": "ipython3",
   "version": "3.13.0"
  }
 },
 "nbformat": 4,
 "nbformat_minor": 2
}
